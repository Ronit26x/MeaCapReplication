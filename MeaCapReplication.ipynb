{
  "nbformat": 4,
  "nbformat_minor": 0,
  "metadata": {
    "colab": {
      "provenance": []
    },
    "kernelspec": {
      "name": "python3",
      "display_name": "Python 3"
    },
    "language_info": {
      "name": "python"
    }
  },
  "cells": [
    {
      "cell_type": "markdown",
      "source": [
        "#Installing all the dependencies and setting up all the pre-requisites\n"
      ],
      "metadata": {
        "id": "ju8SUXZKmcu0"
      }
    },
    {
      "cell_type": "code",
      "execution_count": 1,
      "metadata": {
        "id": "KZm4vj-oBndb"
      },
      "outputs": [],
      "source": [
        "from google.colab import drive\n",
        "drive.mount('/content/drive',force_remount=True)\n",
        "import os\n",
        "os.chdir('/content/drive/MyDrive/MeaCap')"
      ]
    },
    {
      "cell_type": "code",
      "source": [
        "!sh environment.sh"
      ],
      "metadata": {
        "id": "hV8LotUlDTmK"
      },
      "execution_count": 2,
      "outputs": []
    },
    {
      "cell_type": "markdown",
      "source": [
        "# Running the Zero Shot Image Captioning"
      ],
      "metadata": {
        "id": "Zau1fbB0dXzP"
      }
    },
    {
      "cell_type": "code",
      "source": [
        "# !/content/meacap/bin/python inference.py --use_prompt  --memory_id flickr30k --img_path ./image_example --lm_model_path ./checkpoints/CBART_one_billion\n"
      ],
      "metadata": {
        "id": "TeyldQnBSTO9"
      },
      "execution_count": null,
      "outputs": []
    },
    {
      "cell_type": "code",
      "source": [
        "!/content/meacap/bin/python inference.py --memory_id coco --img_path ./image_example --lm_model_path ./checkpoints/CBART_COCO"
      ],
      "metadata": {
        "id": "tRBnIvPLZ9ED"
      },
      "execution_count": null,
      "outputs": []
    },
    {
      "cell_type": "markdown",
      "source": [
        "#Validation Code\n"
      ],
      "metadata": {
        "id": "F8T42k3jmrXP"
      }
    },
    {
      "cell_type": "code",
      "source": [
        "!/content/meacap/bin/python microsoftevaluation.py"
      ],
      "metadata": {
        "id": "3TVf_RrapcTu"
      },
      "execution_count": 3,
      "outputs": []
    }
  ]
}